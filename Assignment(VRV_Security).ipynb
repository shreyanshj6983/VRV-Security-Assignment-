{
  "nbformat": 4,
  "nbformat_minor": 0,
  "metadata": {
    "colab": {
      "provenance": []
    },
    "kernelspec": {
      "name": "python3",
      "display_name": "Python 3"
    },
    "language_info": {
      "name": "python"
    }
  },
  "cells": [
    {
      "cell_type": "code",
      "source": [
        "from collections import defaultdict\n",
        "import csv\n",
        "import os"
      ],
      "metadata": {
        "id": "BgShGGwAhWoS"
      },
      "execution_count": 1,
      "outputs": []
    },
    {
      "cell_type": "code",
      "source": [
        "# Define constants\n",
        "FAILED_LOGIN_THRESHOLD = 10"
      ],
      "metadata": {
        "id": "6tLLUBxUhWkw"
      },
      "execution_count": 2,
      "outputs": []
    },
    {
      "cell_type": "code",
      "source": [
        "def process_log_file(log_file):\n",
        "    ip_counts = defaultdict(int)\n",
        "    endpoint_counts = defaultdict(int)\n",
        "    failed_logins = defaultdict(int)\n",
        "\n",
        "    # Read log file\n",
        "    with open(log_file, 'r') as file:\n",
        "        for line in file:\n",
        "            # Skip non-log lines (meta lines like 'Log file created.')\n",
        "            if 'Log file created.' in line:\n",
        "                continue\n",
        "\n",
        "            # Split the line into parts and check if it's a valid log entry\n",
        "            parts = line.strip().split(\" \")\n",
        "\n",
        "            # Check if the line has enough elements to avoid index errors\n",
        "            if len(parts) > 8:  # Ensures there are enough parts in the line\n",
        "                ip_address = parts[0]\n",
        "                endpoint = parts[6]\n",
        "                status_code = parts[8]\n",
        "                error_message = \"Invalid credentials\" in line\n",
        "\n",
        "                # Count requests per IP address\n",
        "                ip_counts[ip_address] += 1\n",
        "\n",
        "                # Count endpoint accesses\n",
        "                endpoint_counts[endpoint] += 1\n",
        "\n",
        "                # Detect failed login attempts (status 401 or 'Invalid credentials' message)\n",
        "                if status_code == '401' or error_message:\n",
        "                    failed_logins[ip_address] += 1\n",
        "            else:\n",
        "                print(f\"Skipping line: '{line.strip()}' - insufficient elements.\")  # Print skipped lines\n",
        "                continue  # Move to next line in file\n",
        "\n",
        "    # Sorting results\n",
        "    sorted_ip_counts = sorted(ip_counts.items(), key=lambda x: x[1], reverse=True)\n",
        "\n",
        "    # Check if endpoint_counts is empty before calling max\n",
        "    if endpoint_counts:\n",
        "        most_accessed_endpoint = max(endpoint_counts.items(), key=lambda x: x[1])\n",
        "    else:\n",
        "        most_accessed_endpoint = (\"N/A\", 0)  # Handle empty case\n",
        "\n",
        "    # Find suspicious activity based on failed logins\n",
        "    suspicious_activity = {ip: count for ip, count in failed_logins.items() if count > FAILED_LOGIN_THRESHOLD}\n",
        "\n",
        "    return sorted_ip_counts, most_accessed_endpoint, suspicious_activity"
      ],
      "metadata": {
        "id": "4EnjkK9ogzUB"
      },
      "execution_count": 3,
      "outputs": []
    },
    {
      "cell_type": "code",
      "source": [
        "# Function to display and save results\n",
        "def display_and_save_results(sorted_ip_counts, most_accessed_endpoint, suspicious_activity):\n",
        "    # Displaying results\n",
        "    print(\"IP Address\\t\\tRequest Count\")\n",
        "    for ip, count in sorted_ip_counts:\n",
        "        print(f\"{ip}\\t\\t{count}\")\n",
        "\n",
        "    print(\"\\nMost Frequently Accessed Endpoint:\")\n",
        "    print(f\"{most_accessed_endpoint[0]} (Accessed {most_accessed_endpoint[1]} times)\")\n",
        "\n",
        "    if suspicious_activity:\n",
        "        print(\"\\nSuspicious Activity Detected:\")\n",
        "        print(\"IP Address           Failed Login Attempts\")\n",
        "        for ip, count in suspicious_activity.items():\n",
        "            print(f\"{ip}        {count}\")\n",
        "    else:\n",
        "        print(\"\\nNo suspicious activity detected.\")\n",
        "\n",
        "    # Save results to CSV\n",
        "    with open('log_analysis_results.csv', 'w', newline='') as csvfile:\n",
        "        fieldnames = ['IP Address', 'Request Count']\n",
        "        writer = csv.DictWriter(csvfile, fieldnames=fieldnames)\n",
        "\n",
        "        writer.writeheader()\n",
        "        for ip, count in sorted_ip_counts:\n",
        "            writer.writerow({'IP Address': ip, 'Request Count': count})\n",
        "\n",
        "        # Save most accessed endpoint\n",
        "        writer.writerow({'IP Address': most_accessed_endpoint[0], 'Request Count': most_accessed_endpoint[1]})\n",
        "\n",
        "        # Save suspicious activity\n",
        "        for ip, count in suspicious_activity.items():\n",
        "            writer.writerow({'IP Address': ip, 'Request Count': count})\n"
      ],
      "metadata": {
        "id": "Si8tArGNhSrq"
      },
      "execution_count": 4,
      "outputs": []
    },
    {
      "cell_type": "code",
      "source": [
        "# Main function to run the script\n",
        "def main():\n",
        "    log_file = \"sample.log\"  # Path to the log file\n",
        "    sorted_ip_counts, most_accessed_endpoint, suspicious_activity = process_log_file(log_file)\n",
        "    display_and_save_results(sorted_ip_counts, most_accessed_endpoint, suspicious_activity)\n",
        "\n",
        "if __name__ == \"__main__\":\n",
        "    main()"
      ],
      "metadata": {
        "colab": {
          "base_uri": "https://localhost:8080/"
        },
        "id": "2VcSLNpmgzwN",
        "outputId": "fe5b6a61-c90b-456f-8b2b-7161c1410952"
      },
      "execution_count": 5,
      "outputs": [
        {
          "output_type": "stream",
          "name": "stdout",
          "text": [
            "IP Address\t\tRequest Count\n",
            "203.0.113.5\t\t8\n",
            "198.51.100.23\t\t8\n",
            "192.168.1.1\t\t7\n",
            "10.0.0.2\t\t6\n",
            "192.168.1.100\t\t5\n",
            "\n",
            "Most Frequently Accessed Endpoint:\n",
            "/login (Accessed 13 times)\n",
            "\n",
            "No suspicious activity detected.\n"
          ]
        }
      ]
    },
    {
      "cell_type": "code",
      "source": [],
      "metadata": {
        "id": "G6wb7U89knd7"
      },
      "execution_count": 5,
      "outputs": []
    }
  ]
}